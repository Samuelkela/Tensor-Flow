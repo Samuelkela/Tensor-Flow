{
  "nbformat": 4,
  "nbformat_minor": 0,
  "metadata": {
    "colab": {
      "name": "Tensor Flow Test Book 1.ipynb",
      "provenance": [],
      "collapsed_sections": []
    },
    "kernelspec": {
      "name": "python3",
      "display_name": "Python 3"
    },
    "language_info": {
      "name": "python"
    }
  },
  "cells": [
    {
      "cell_type": "code",
      "execution_count": null,
      "metadata": {
        "colab": {
          "base_uri": "https://localhost:8080/"
        },
        "id": "9LYYdn9ZKXIy",
        "outputId": "6b7071af-274e-4ac9-88a5-d6a32dd72455"
      },
      "outputs": [
        {
          "output_type": "stream",
          "name": "stdout",
          "text": [
            "2.8.0\n"
          ]
        }
      ],
      "source": [
        "import tensorflow as tf\n",
        "import numpy as np\n",
        "print(tf.__version__)"
      ]
    },
    {
      "cell_type": "markdown",
      "source": [
        "INTRODUCTION TO TENSORS\n",
        "Tensors are multi-dimensional arrays with a uniform type (called a dtype). You can see all supported dtypes at tf.dtypes.DType.\n",
        "\n",
        "If you're familiar with NumPy, tensors are (kind of) like np.arrays.\n",
        "\n",
        "All tensors are immutable like Python numbers and strings: you can never update the contents of a tensor, only create a new one.\n",
        "\n",
        "Basics\n",
        "A scalar is a single number\n",
        "A vector is an array of numbers.\n",
        "A matrix is a 2-D array\n",
        "A tensor is a n-dimensional array with n >2\n",
        "\n",
        "Understanding Dimension - Indexes - Rank - Axes - Shape\n",
        "List item\n",
        "List item\n",
        "\n",
        "Dimension:\n",
        "Let’s take an example of box to explain this. A simple box can have three dimensions width, length and depth (or height). Similarly, in data science we will be working “N” dimensional datasets. “N” could be any number.\n",
        "\n",
        "Indexes:\n",
        "Indexes are required to access an element in a Data Structure.\n",
        "\n",
        "For example, suppose we have this array and we want to access the number 3 in this data structure. it can be done using a singlie index as follows"
      ],
      "metadata": {
        "id": "oPFqUa0_XswF"
      }
    },
    {
      "cell_type": "code",
      "source": [
        "a = [1,2,3,4]\n",
        "a[2]\n",
        "\n"
      ],
      "metadata": {
        "colab": {
          "base_uri": "https://localhost:8080/"
        },
        "id": "RLmGWke3Nv4J",
        "outputId": "bd0e7286-fd66-4ba1-eb0d-da63df26e539"
      },
      "execution_count": null,
      "outputs": [
        {
          "output_type": "execute_result",
          "data": {
            "text/plain": [
              "3"
            ]
          },
          "metadata": {},
          "execution_count": 2
        }
      ]
    },
    {
      "cell_type": "code",
      "source": [
        "''' Now, suppose we want to access (refer to) the number 3 in this data structure.\n",
        " In this case, we need two indexes to locate the specific element.''' \n",
        "dd = [\n",
        "[1,2,3],\n",
        "[4,5,6],\n",
        "[7,8,9]\n",
        "]\n",
        "\n",
        "dd[0][2]"
      ],
      "metadata": {
        "colab": {
          "base_uri": "https://localhost:8080/"
        },
        "id": "fFVM3DYnZk9y",
        "outputId": "cadb6d14-2655-4dbb-c3c1-83138cba3c13"
      },
      "execution_count": null,
      "outputs": [
        {
          "output_type": "execute_result",
          "data": {
            "text/plain": [
              "3"
            ]
          },
          "metadata": {},
          "execution_count": 3
        }
      ]
    },
    {
      "cell_type": "markdown",
      "source": [
        "**Rank:**\n",
        "The rank of a tensor refers to the number of dimensions present within the tensor.\n",
        "\n",
        "**Rank & Indexes:**\n",
        "\n",
        "The rank of a tensor tells us how many indexes are required to access (refer to) a specific data element contained within the tensor data structure.\n",
        "\n",
        "A tensor's rank tells us how many indexes are needed to refer to a specific element within the tensor.\n",
        "\n",
        "**Tensor Axes Example**\n",
        "Let's look at some examples to make this solid. We'll consider the same tensor dd as before:"
      ],
      "metadata": {
        "id": "Sz6_CT6iZyKC"
      }
    },
    {
      "cell_type": "code",
      "source": [
        "dd = [\n",
        "[1,2,3],\n",
        "[4,5,6],\n",
        "[7,8,9]\n",
        "]\n",
        "\n",
        "#Each element along the first axis is in an array\n",
        "\n",
        "dd[2][0]"
      ],
      "metadata": {
        "colab": {
          "base_uri": "https://localhost:8080/"
        },
        "id": "NuxbI4QTZ_wK",
        "outputId": "05bfbf0f-4177-4a8b-886f-1db997a2b47c"
      },
      "execution_count": null,
      "outputs": [
        {
          "output_type": "execute_result",
          "data": {
            "text/plain": [
              "7"
            ]
          },
          "metadata": {},
          "execution_count": 8
        }
      ]
    },
    {
      "cell_type": "markdown",
      "source": [
        "Note that, with tensors, the elements of the last axis are always numbers. Every other axis will contain n-dimensional arrays. This is what we see in this example, but this idea generalizes.\n",
        "\n",
        "The rank of a tensor tells us how many axes a tensor has, and the length of these axes leads us to the very important concept known as the shape of a tensor.\n",
        "\n",
        "**Shape of a Tensor** :\n",
        "The shape of a tensor is determined by the length of each axis, so if we know the shape of a given tensor, then we know the length of each axis, and this tells us how many indexes are available along each axis.\n",
        "\n",
        "The shape of a tensor gives us the length of each axis of the tensor. Let’s consider the same tensor dd as before:"
      ],
      "metadata": {
        "id": "bzOFKcfla986"
      }
    },
    {
      "cell_type": "code",
      "source": [
        "# Let's say we have a 2D array\n",
        "dd = [\n",
        "[1,2,3],\n",
        "[4,5,6],\n",
        "[7,8,9]\n",
        "]\n",
        "\n",
        "#To work with this tensor's shape, we’ll create a tensor object like so:\n",
        "\n",
        "t = tf.constant(dd) # constant() is a function that helps you create a constant tensor\n",
        "t"
      ],
      "metadata": {
        "colab": {
          "base_uri": "https://localhost:8080/"
        },
        "id": "KcgOZTORbRc8",
        "outputId": "660c91de-0b83-46e7-963b-c530a1d21a38"
      },
      "execution_count": null,
      "outputs": [
        {
          "output_type": "execute_result",
          "data": {
            "text/plain": [
              "<tf.Tensor: shape=(3, 3), dtype=int32, numpy=\n",
              "array([[1, 2, 3],\n",
              "       [4, 5, 6],\n",
              "       [7, 8, 9]], dtype=int32)>"
            ]
          },
          "metadata": {},
          "execution_count": 9
        }
      ]
    },
    {
      "cell_type": "code",
      "source": [
        "type(t)"
      ],
      "metadata": {
        "colab": {
          "base_uri": "https://localhost:8080/"
        },
        "id": "sB8XU5e6b69e",
        "outputId": "9af039ce-f26d-4869-9d99-2645af0995dd"
      },
      "execution_count": null,
      "outputs": [
        {
          "output_type": "execute_result",
          "data": {
            "text/plain": [
              "tensorflow.python.framework.ops.EagerTensor"
            ]
          },
          "metadata": {},
          "execution_count": 10
        }
      ]
    },
    {
      "cell_type": "code",
      "source": [
        "t.shape"
      ],
      "metadata": {
        "colab": {
          "base_uri": "https://localhost:8080/"
        },
        "id": "4RYsnsfYcACA",
        "outputId": "09d757be-5a53-4ce5-d697-0bace7b23156"
      },
      "execution_count": null,
      "outputs": [
        {
          "output_type": "execute_result",
          "data": {
            "text/plain": [
              "TensorShape([3, 3])"
            ]
          },
          "metadata": {},
          "execution_count": 11
        }
      ]
    },
    {
      "cell_type": "markdown",
      "source": [
        "**Tensor Operation Types**:\n",
        "\n",
        "Before we dive in with specific tensor operations, let’s get a quick overview of the landscape by looking at the main operation categories that encompass the operations we’ll cover. We have the following high-level categories of operations:\n",
        "\n",
        "**Reshaping operations:**\n",
        "Element-wise operations\n",
        "Reduction operations\n",
        "Access operations\n",
        "Reshaping A Tensor In TensorFlow\n",
        "Let’s look now at all the ways in which this tensor t can be reshaped without changing the rank:\n",
        "\n",
        "Suppose that we have the following tensor:"
      ],
      "metadata": {
        "id": "8hn94AIVbJI4"
      }
    },
    {
      "cell_type": "code",
      "source": [
        "t = tf.constant([\n",
        "[1,1,1,1],\n",
        "[2,2,2,2],\n",
        "[3,3,3,3]\n",
        "], dtype=tf.float32) # can also mention the type of the element we want in the tensor"
      ],
      "metadata": {
        "id": "agDOeV9ccTex"
      },
      "execution_count": null,
      "outputs": []
    },
    {
      "cell_type": "code",
      "source": [
        "reshaped_tensor = tf.reshape(t, [1,12])\n",
        "# reshape is a function that helps to reshaping any ndarray or ndtensor\n",
        "\n",
        "print(reshaped_tensor)"
      ],
      "metadata": {
        "colab": {
          "base_uri": "https://localhost:8080/"
        },
        "id": "BsSbv_1TcY_S",
        "outputId": "9d6d745b-62b0-4343-d10a-fb8c3fb42c9c"
      },
      "execution_count": null,
      "outputs": [
        {
          "output_type": "stream",
          "name": "stdout",
          "text": [
            "tf.Tensor([[1. 1. 1. 1. 2. 2. 2. 2. 3. 3. 3. 3.]], shape=(1, 12), dtype=float32)\n"
          ]
        }
      ]
    },
    {
      "cell_type": "code",
      "source": [
        "reshaped_tensor = tf.reshape(t, [2,6])\n",
        "print(reshaped_tensor)"
      ],
      "metadata": {
        "colab": {
          "base_uri": "https://localhost:8080/"
        },
        "id": "STgDyG1JdKLF",
        "outputId": "16f2e364-2af6-426d-d733-56afb95e9d5f"
      },
      "execution_count": null,
      "outputs": [
        {
          "output_type": "stream",
          "name": "stdout",
          "text": [
            "tf.Tensor(\n",
            "[[1. 1. 1. 1. 2. 2.]\n",
            " [2. 2. 3. 3. 3. 3.]], shape=(2, 6), dtype=float32)\n"
          ]
        }
      ]
    },
    {
      "cell_type": "code",
      "source": [
        "reshaped_tensor = tf.reshape(t, [3,4])\n",
        "print(reshaped_tensor)"
      ],
      "metadata": {
        "colab": {
          "base_uri": "https://localhost:8080/"
        },
        "id": "bRtqr-andPxj",
        "outputId": "8a2294bf-9b91-433e-a599-95daf13f2976"
      },
      "execution_count": null,
      "outputs": [
        {
          "output_type": "stream",
          "name": "stdout",
          "text": [
            "tf.Tensor(\n",
            "[[1. 1. 1. 1.]\n",
            " [2. 2. 2. 2.]\n",
            " [3. 3. 3. 3.]], shape=(3, 4), dtype=float32)\n"
          ]
        }
      ]
    },
    {
      "cell_type": "markdown",
      "source": [
        "Using the reshape() function, we can specify the row x column shape that we are seeking. Notice how all of the shapes have to account for the number of elements in the tensor. In our example this is:\n",
        "\n",
        "rows * columns = 12 elements\n",
        "We can use the intuitive words rows and columns when we are dealing with a rank 2 tensor. The underlying logic is the same for higher dimensional tenors even though we may not be able to use the intuition of rows and columns in higher dimensional spaces. For example:"
      ],
      "metadata": {
        "id": "qRg9QFjUdV6X"
      }
    },
    {
      "cell_type": "code",
      "source": [
        "reshaped_tensor = tf.reshape(t, [2,2,3])\n",
        "print(reshaped_tensor)"
      ],
      "metadata": {
        "colab": {
          "base_uri": "https://localhost:8080/"
        },
        "id": "SetGSt4Rd7ed",
        "outputId": "cf4ee27f-31c2-4f77-8852-9ed227779cb1"
      },
      "execution_count": null,
      "outputs": [
        {
          "output_type": "stream",
          "name": "stdout",
          "text": [
            "tf.Tensor(\n",
            "[[[1. 1. 1.]\n",
            "  [1. 2. 2.]]\n",
            "\n",
            " [[2. 2. 3.]\n",
            "  [3. 3. 3.]]], shape=(2, 2, 3), dtype=float32)\n"
          ]
        }
      ]
    },
    {
      "cell_type": "markdown",
      "source": [
        "**Changing Shape By Squeezing And Unsqueezing**\n",
        "\n",
        "The next way we can change the shape of our tensors is by squeezing and unsqueezing them.\n",
        "\n",
        "Squeezing a tensor removes the dimensions or axes that have a length of one.\n",
        "Unsqueezing a tensor adds a dimension with a length of one.\n",
        "These functions allow us to expand or shrink the rank (number of dimensions) of our tensor. Let’s see this in action."
      ],
      "metadata": {
        "id": "YNBP-TfBeLbO"
      }
    },
    {
      "cell_type": "code",
      "source": [
        "print(tf.reshape(t, [1,12]))"
      ],
      "metadata": {
        "colab": {
          "base_uri": "https://localhost:8080/"
        },
        "id": "76ncxpeleQ8n",
        "outputId": "ecfebe6e-5b66-4315-e3c8-5def5cf7c436"
      },
      "execution_count": null,
      "outputs": [
        {
          "output_type": "stream",
          "name": "stdout",
          "text": [
            "tf.Tensor([[1. 1. 1. 1. 2. 2. 2. 2. 3. 3. 3. 3.]], shape=(1, 12), dtype=float32)\n"
          ]
        }
      ]
    },
    {
      "cell_type": "code",
      "source": [
        "print(tf.reshape(t, [1,12]).shape)"
      ],
      "metadata": {
        "colab": {
          "base_uri": "https://localhost:8080/"
        },
        "id": "xp0G2piteYW3",
        "outputId": "65817484-1e3e-46b4-d08c-6fb5f36bb76c"
      },
      "execution_count": null,
      "outputs": [
        {
          "output_type": "stream",
          "name": "stdout",
          "text": [
            "(1, 12)\n"
          ]
        }
      ]
    },
    {
      "cell_type": "code",
      "source": [
        "print(tf.squeeze(tf.reshape(t, [1,12])))"
      ],
      "metadata": {
        "colab": {
          "base_uri": "https://localhost:8080/"
        },
        "id": "0lJJ19V1ebo5",
        "outputId": "c6cebee7-3a28-4e1b-f07c-d6788888a18b"
      },
      "execution_count": null,
      "outputs": [
        {
          "output_type": "stream",
          "name": "stdout",
          "text": [
            "tf.Tensor([1. 1. 1. 1. 2. 2. 2. 2. 3. 3. 3. 3.], shape=(12,), dtype=float32)\n"
          ]
        }
      ]
    },
    {
      "cell_type": "code",
      "source": [
        "print(tf.squeeze(tf.reshape(t, [1,12])).shape)"
      ],
      "metadata": {
        "colab": {
          "base_uri": "https://localhost:8080/"
        },
        "id": "O47TEb0QfKbR",
        "outputId": "57e12ef2-8037-40bd-b2f7-92887e2ba39a"
      },
      "execution_count": null,
      "outputs": [
        {
          "output_type": "stream",
          "name": "stdout",
          "text": [
            "(12,)\n"
          ]
        }
      ]
    },
    {
      "cell_type": "markdown",
      "source": [
        "Let’s look at a common use case for squeezing a tensor by building a flatten function.\n",
        "\n",
        "**Flatten A Tensor** \n",
        "\n",
        "A flatten operation on a tensor reshapes the tensor to have a shape that is equal to the number of elements contained in the tensor. This is the same thing as a 1d-array of elements.\n",
        "\n",
        "Flattening a tensor means to remove all of the dimensions except for one.\n",
        "Let’s create a Python function called flatten():"
      ],
      "metadata": {
        "id": "_O7IKYCDfi-R"
      }
    },
    {
      "cell_type": "code",
      "source": [
        "def flatten(t):\n",
        "  t = tf.reshape(t, [1,-1])\n",
        "  t = tf.squeeze(t)\n",
        "  return t"
      ],
      "metadata": {
        "id": "yXHytVZgfgrF"
      },
      "execution_count": null,
      "outputs": []
    },
    {
      "cell_type": "markdown",
      "source": [
        "The flatten() function takes in a tensor t as an argument.\n",
        "\n",
        "Since the argument t can be any tensor, we pass -1 as the second argument to the reshape() function. In TensorFlow, the -1 tells the reshape() function to figure out what the value should be based on the number of elements contained within the tensor. Remember, the shape must equal the product of the shape's component values. This is how TensorFlow can figure out what the value should be, given a 1 as the first argument.\n",
        "\n",
        "Since our tensor t has 12 elements, the reshape() function is able to figure out that a 12 is required for the length of the second axis.\n",
        "\n",
        "After squeezing, the first axis (axis-0) is removed, and we obtain our desired result, a 1d-array of length 12.\n",
        "\n",
        "Here's an example of this in action:"
      ],
      "metadata": {
        "id": "88RP03UXgGHP"
      }
    },
    {
      "cell_type": "code",
      "source": [
        "t = tf.ones([4, 3])\n",
        "\n",
        "t"
      ],
      "metadata": {
        "colab": {
          "base_uri": "https://localhost:8080/"
        },
        "id": "PFw6Rwmtivhh",
        "outputId": "be2cfbd0-1296-47e6-f332-72692d19416b"
      },
      "execution_count": null,
      "outputs": [
        {
          "output_type": "execute_result",
          "data": {
            "text/plain": [
              "<tf.Tensor: shape=(4, 3), dtype=float32, numpy=\n",
              "array([[1., 1., 1.],\n",
              "       [1., 1., 1.],\n",
              "       [1., 1., 1.],\n",
              "       [1., 1., 1.]], dtype=float32)>"
            ]
          },
          "metadata": {},
          "execution_count": 23
        }
      ]
    },
    {
      "cell_type": "code",
      "source": [
        "flatten(t)"
      ],
      "metadata": {
        "colab": {
          "base_uri": "https://localhost:8080/"
        },
        "id": "hgIhYuBai6pZ",
        "outputId": "ea63aa78-f781-490d-a575-3b7a61b04d06"
      },
      "execution_count": null,
      "outputs": [
        {
          "output_type": "execute_result",
          "data": {
            "text/plain": [
              "<tf.Tensor: shape=(12,), dtype=float32, numpy=array([1., 1., 1., 1., 1., 1., 1., 1., 1., 1., 1., 1.], dtype=float32)>"
            ]
          },
          "metadata": {},
          "execution_count": 24
        }
      ]
    },
    {
      "cell_type": "markdown",
      "source": [
        "**Concatenating Tensors**\n",
        "\n",
        "We combine tensors using the concat() function, and the resulting tensor will have a shape that depends on the shape of the two input tensors.\n",
        "\n",
        "Suppose we have two tensors:"
      ],
      "metadata": {
        "id": "GtG3d_TqjBsI"
      }
    },
    {
      "cell_type": "code",
      "source": [
        "t1 = tf.constant([\n",
        "[1,2],\n",
        "[3,4]\n",
        "])\n",
        "\n",
        "t2 = tf.constant([\n",
        "[5,6],\n",
        "[7,8]\n",
        "])"
      ],
      "metadata": {
        "id": "6rQckNaKjQcy"
      },
      "execution_count": null,
      "outputs": []
    },
    {
      "cell_type": "code",
      "source": [
        "#We can combine t1 and t2 row-wise (axis-0) in the following way:\n",
        "\n",
        "tf.concat((t1, t2), axis = 0) # concat() helps you to concatenate two tensors according to the given axis"
      ],
      "metadata": {
        "colab": {
          "base_uri": "https://localhost:8080/"
        },
        "id": "-Cs7pYt9jVek",
        "outputId": "07802147-b479-463c-af90-f4653fbe3b19"
      },
      "execution_count": null,
      "outputs": [
        {
          "output_type": "execute_result",
          "data": {
            "text/plain": [
              "<tf.Tensor: shape=(4, 2), dtype=int32, numpy=\n",
              "array([[1, 2],\n",
              "       [3, 4],\n",
              "       [5, 6],\n",
              "       [7, 8]], dtype=int32)>"
            ]
          },
          "metadata": {},
          "execution_count": 26
        }
      ]
    },
    {
      "cell_type": "code",
      "source": [
        "#combining them column-wise (axis-1) like this\n",
        "tf.concat((t1, t2), axis =1)"
      ],
      "metadata": {
        "colab": {
          "base_uri": "https://localhost:8080/"
        },
        "id": "iPVlGfaKjiAb",
        "outputId": "39faff5c-2163-4382-8df7-55cc907d79cc"
      },
      "execution_count": null,
      "outputs": [
        {
          "output_type": "execute_result",
          "data": {
            "text/plain": [
              "<tf.Tensor: shape=(2, 4), dtype=int32, numpy=\n",
              "array([[1, 2, 5, 6],\n",
              "       [3, 4, 7, 8]], dtype=int32)>"
            ]
          },
          "metadata": {},
          "execution_count": 27
        }
      ]
    },
    {
      "cell_type": "markdown",
      "source": [
        "When we concatenate tensors, we increase the number of elements contained within the resulting tensor. This causes the component values within the shape (lengths of the axes) to adjust to account for the additional elements."
      ],
      "metadata": {
        "id": "wZILMyfImuom"
      }
    },
    {
      "cell_type": "code",
      "source": [
        "tf.concat((t1, t2), axis = 0).shape"
      ],
      "metadata": {
        "colab": {
          "base_uri": "https://localhost:8080/"
        },
        "id": "OOANgAV6mx3m",
        "outputId": "bb2e6cd4-210d-4438-8ef9-f3ef07ab98bc"
      },
      "execution_count": null,
      "outputs": [
        {
          "output_type": "execute_result",
          "data": {
            "text/plain": [
              "TensorShape([4, 2])"
            ]
          },
          "metadata": {},
          "execution_count": 28
        }
      ]
    },
    {
      "cell_type": "code",
      "source": [
        "tf.concat((t1, t2), axis = 1).shape"
      ],
      "metadata": {
        "colab": {
          "base_uri": "https://localhost:8080/"
        },
        "id": "oZXpC7R3m2HZ",
        "outputId": "464c40ea-970b-42af-a53a-427472b6e491"
      },
      "execution_count": null,
      "outputs": [
        {
          "output_type": "execute_result",
          "data": {
            "text/plain": [
              "TensorShape([2, 4])"
            ]
          },
          "metadata": {},
          "execution_count": 29
        }
      ]
    },
    {
      "cell_type": "markdown",
      "source": [
        "**Conclusion About Reshaping Tensors**\n",
        "\n",
        "We should now have a good understanding of what it means to reshape a tensor. Any time we change a tensor's shape, we are said to be reshaping the tensor.\n",
        "\n",
        "Reference: Deeplizard"
      ],
      "metadata": {
        "id": "xmJZxCe6nJLs"
      }
    }
  ]
}
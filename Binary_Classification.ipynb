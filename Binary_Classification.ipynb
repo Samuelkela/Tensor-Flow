{
  "nbformat": 4,
  "nbformat_minor": 0,
  "metadata": {
    "colab": {
      "name": "Binary_Classification.ipynb",
      "provenance": [],
      "collapsed_sections": []
    },
    "kernelspec": {
      "name": "python3",
      "display_name": "Python 3"
    }
  },
  "cells": [
    {
      "cell_type": "markdown",
      "metadata": {
        "id": "kXzFul5zX5nc"
      },
      "source": [
        "# Agenda\n",
        "1. Introduction\n",
        "2. Data Description\n",
        "3. Loading the basic Data Science Libraries\n",
        "4. Loading Data\n",
        "5. Separating Input and Target Variable\n",
        "6. Splitting into Train and Test Sets\n",
        "7. Model Building\n",
        "  \n",
        "  7.1 Model Creation/Definition\n",
        "    - Our model architecture\n",
        "\n",
        "  7.2 Model Compilation\n",
        "    - History\n",
        "\n",
        "  7.3 Model Training\n",
        "\n",
        "  7.4 Model Evaluation\n",
        "    - Model Accuracy\n",
        "    - Model Loss\n",
        "8. Conclusion"
      ]
    },
    {
      "cell_type": "markdown",
      "metadata": {
        "id": "2AB0kkinaVQe"
      },
      "source": [
        "# Introduction\n",
        "Classification is a process of dividing the given data points into two or more classes. When the number of classes = 2, it is known as Binary Classification.\n",
        "\n",
        "In this notebook, we'll be performing Binary Classification to **predict whether a person has a heart disease or not.**\n",
        "\n",
        "There are 2 classes:\n",
        "1. Heart disease present (target=1)\n",
        "2. Heart disease not present (target=0)"
      ]
    },
    {
      "cell_type": "markdown",
      "metadata": {
        "id": "1Y2NwIRUbS5c"
      },
      "source": [
        "# Data Description\n",
        "* **age:** Age in years\n",
        "* **sex:** 1 = male, 0 = female\n",
        "* **cp:** Chest pain type\n",
        "* **trestbps:** Resting blood pressure (in mm Hg on admission to the hospital)\n",
        "* **chol:** serum cholesterol in mg/dl\n",
        "* **fbs:** fasting blood sugar > 120 mg/dl (1 = true; 0 = false)\n",
        "* **restecg:**Resting electrocardiographic results\n",
        "* **thalach:** Maximum heart rate achieved\n",
        "* **exang:** Exercise induced angina (1 = yes; 0 = no)\n",
        "* **oldpeak:** ST depression induced by exercise relative to rest\n",
        "* **slope:** The slope of the peak exercise ST segment\n",
        "* **ca:** Number of major vessels (0-3) colored by fluoroscopy\n",
        "* **thal:** 3 = normal; 6 = fixed defect; 7 = reversible defect\n",
        "* **target:** 1 = Heart disease present, 0 = Heart disease not present"
      ]
    },
    {
      "cell_type": "markdown",
      "metadata": {
        "id": "XIJpr8URo5qk"
      },
      "source": [
        "# Loading the basic Data Science Libraries\n",
        "All Python capabilities are not loaded to our working environment by default (even if they are already installed in your system). So, we import each and every library that we want to use.\n",
        "\n",
        "In data science, numpy, pandas and matplotlib are most commonly used libraries. We chose alias names for our libraries for the sake of our convenience (numpy --> np and pandas --> pd, matplotlib.pyplot as plt)."
      ]
    },
    {
      "cell_type": "code",
      "metadata": {
        "id": "lEe1FaD_o6PR"
      },
      "source": [
        "import numpy as np  # for matrix operations\n",
        "import pandas as pd  # for loading CSV Files\n",
        "import matplotlib.pyplot as plt # for Data Visualization"
      ],
      "execution_count": 1,
      "outputs": []
    },
    {
      "cell_type": "markdown",
      "metadata": {
        "id": "rIBaJ38_ibzi"
      },
      "source": [
        "# Loading Data\n",
        "Pandas module is used for reading files. Since we have our data in '.csv' format, we will use 'read_csv()' function for loading the data."
      ]
    },
    {
      "cell_type": "code",
      "metadata": {
        "id": "prpLahz7ZioJ"
      },
      "source": [
        "data = pd.read_csv(\"https://raw.githubusercontent.com/dphi-official/Datasets/master/heart_disease.csv\")"
      ],
      "execution_count": 2,
      "outputs": []
    },
    {
      "cell_type": "code",
      "metadata": {
        "id": "AVyXzVv4hya2",
        "colab": {
          "base_uri": "https://localhost:8080/",
          "height": 206
        },
        "outputId": "c994dc16-f82f-402e-d21c-a843fe911d84"
      },
      "source": [
        "data.head() #head function displays the first 5 rows by default"
      ],
      "execution_count": 3,
      "outputs": [
        {
          "output_type": "execute_result",
          "data": {
            "text/plain": [
              "   age  sex  cp  trestbps  chol  fbs  restecg  thalach  exang  oldpeak  slope  \\\n",
              "0   63    1   3       145   233    1        0      150      0      2.3      0   \n",
              "1   37    1   2       130   250    0        1      187      0      3.5      0   \n",
              "2   41    0   1       130   204    0        0      172      0      1.4      2   \n",
              "3   56    1   1       120   236    0        1      178      0      0.8      2   \n",
              "4   57    0   0       120   354    0        1      163      1      0.6      2   \n",
              "\n",
              "   ca  thal  target  \n",
              "0   0     1       1  \n",
              "1   0     2       1  \n",
              "2   0     2       1  \n",
              "3   0     2       1  \n",
              "4   0     2       1  "
            ],
            "text/html": [
              "\n",
              "  <div id=\"df-fbeed87f-9d65-4899-a477-68d98e334f04\">\n",
              "    <div class=\"colab-df-container\">\n",
              "      <div>\n",
              "<style scoped>\n",
              "    .dataframe tbody tr th:only-of-type {\n",
              "        vertical-align: middle;\n",
              "    }\n",
              "\n",
              "    .dataframe tbody tr th {\n",
              "        vertical-align: top;\n",
              "    }\n",
              "\n",
              "    .dataframe thead th {\n",
              "        text-align: right;\n",
              "    }\n",
              "</style>\n",
              "<table border=\"1\" class=\"dataframe\">\n",
              "  <thead>\n",
              "    <tr style=\"text-align: right;\">\n",
              "      <th></th>\n",
              "      <th>age</th>\n",
              "      <th>sex</th>\n",
              "      <th>cp</th>\n",
              "      <th>trestbps</th>\n",
              "      <th>chol</th>\n",
              "      <th>fbs</th>\n",
              "      <th>restecg</th>\n",
              "      <th>thalach</th>\n",
              "      <th>exang</th>\n",
              "      <th>oldpeak</th>\n",
              "      <th>slope</th>\n",
              "      <th>ca</th>\n",
              "      <th>thal</th>\n",
              "      <th>target</th>\n",
              "    </tr>\n",
              "  </thead>\n",
              "  <tbody>\n",
              "    <tr>\n",
              "      <th>0</th>\n",
              "      <td>63</td>\n",
              "      <td>1</td>\n",
              "      <td>3</td>\n",
              "      <td>145</td>\n",
              "      <td>233</td>\n",
              "      <td>1</td>\n",
              "      <td>0</td>\n",
              "      <td>150</td>\n",
              "      <td>0</td>\n",
              "      <td>2.3</td>\n",
              "      <td>0</td>\n",
              "      <td>0</td>\n",
              "      <td>1</td>\n",
              "      <td>1</td>\n",
              "    </tr>\n",
              "    <tr>\n",
              "      <th>1</th>\n",
              "      <td>37</td>\n",
              "      <td>1</td>\n",
              "      <td>2</td>\n",
              "      <td>130</td>\n",
              "      <td>250</td>\n",
              "      <td>0</td>\n",
              "      <td>1</td>\n",
              "      <td>187</td>\n",
              "      <td>0</td>\n",
              "      <td>3.5</td>\n",
              "      <td>0</td>\n",
              "      <td>0</td>\n",
              "      <td>2</td>\n",
              "      <td>1</td>\n",
              "    </tr>\n",
              "    <tr>\n",
              "      <th>2</th>\n",
              "      <td>41</td>\n",
              "      <td>0</td>\n",
              "      <td>1</td>\n",
              "      <td>130</td>\n",
              "      <td>204</td>\n",
              "      <td>0</td>\n",
              "      <td>0</td>\n",
              "      <td>172</td>\n",
              "      <td>0</td>\n",
              "      <td>1.4</td>\n",
              "      <td>2</td>\n",
              "      <td>0</td>\n",
              "      <td>2</td>\n",
              "      <td>1</td>\n",
              "    </tr>\n",
              "    <tr>\n",
              "      <th>3</th>\n",
              "      <td>56</td>\n",
              "      <td>1</td>\n",
              "      <td>1</td>\n",
              "      <td>120</td>\n",
              "      <td>236</td>\n",
              "      <td>0</td>\n",
              "      <td>1</td>\n",
              "      <td>178</td>\n",
              "      <td>0</td>\n",
              "      <td>0.8</td>\n",
              "      <td>2</td>\n",
              "      <td>0</td>\n",
              "      <td>2</td>\n",
              "      <td>1</td>\n",
              "    </tr>\n",
              "    <tr>\n",
              "      <th>4</th>\n",
              "      <td>57</td>\n",
              "      <td>0</td>\n",
              "      <td>0</td>\n",
              "      <td>120</td>\n",
              "      <td>354</td>\n",
              "      <td>0</td>\n",
              "      <td>1</td>\n",
              "      <td>163</td>\n",
              "      <td>1</td>\n",
              "      <td>0.6</td>\n",
              "      <td>2</td>\n",
              "      <td>0</td>\n",
              "      <td>2</td>\n",
              "      <td>1</td>\n",
              "    </tr>\n",
              "  </tbody>\n",
              "</table>\n",
              "</div>\n",
              "      <button class=\"colab-df-convert\" onclick=\"convertToInteractive('df-fbeed87f-9d65-4899-a477-68d98e334f04')\"\n",
              "              title=\"Convert this dataframe to an interactive table.\"\n",
              "              style=\"display:none;\">\n",
              "        \n",
              "  <svg xmlns=\"http://www.w3.org/2000/svg\" height=\"24px\"viewBox=\"0 0 24 24\"\n",
              "       width=\"24px\">\n",
              "    <path d=\"M0 0h24v24H0V0z\" fill=\"none\"/>\n",
              "    <path d=\"M18.56 5.44l.94 2.06.94-2.06 2.06-.94-2.06-.94-.94-2.06-.94 2.06-2.06.94zm-11 1L8.5 8.5l.94-2.06 2.06-.94-2.06-.94L8.5 2.5l-.94 2.06-2.06.94zm10 10l.94 2.06.94-2.06 2.06-.94-2.06-.94-.94-2.06-.94 2.06-2.06.94z\"/><path d=\"M17.41 7.96l-1.37-1.37c-.4-.4-.92-.59-1.43-.59-.52 0-1.04.2-1.43.59L10.3 9.45l-7.72 7.72c-.78.78-.78 2.05 0 2.83L4 21.41c.39.39.9.59 1.41.59.51 0 1.02-.2 1.41-.59l7.78-7.78 2.81-2.81c.8-.78.8-2.07 0-2.86zM5.41 20L4 18.59l7.72-7.72 1.47 1.35L5.41 20z\"/>\n",
              "  </svg>\n",
              "      </button>\n",
              "      \n",
              "  <style>\n",
              "    .colab-df-container {\n",
              "      display:flex;\n",
              "      flex-wrap:wrap;\n",
              "      gap: 12px;\n",
              "    }\n",
              "\n",
              "    .colab-df-convert {\n",
              "      background-color: #E8F0FE;\n",
              "      border: none;\n",
              "      border-radius: 50%;\n",
              "      cursor: pointer;\n",
              "      display: none;\n",
              "      fill: #1967D2;\n",
              "      height: 32px;\n",
              "      padding: 0 0 0 0;\n",
              "      width: 32px;\n",
              "    }\n",
              "\n",
              "    .colab-df-convert:hover {\n",
              "      background-color: #E2EBFA;\n",
              "      box-shadow: 0px 1px 2px rgba(60, 64, 67, 0.3), 0px 1px 3px 1px rgba(60, 64, 67, 0.15);\n",
              "      fill: #174EA6;\n",
              "    }\n",
              "\n",
              "    [theme=dark] .colab-df-convert {\n",
              "      background-color: #3B4455;\n",
              "      fill: #D2E3FC;\n",
              "    }\n",
              "\n",
              "    [theme=dark] .colab-df-convert:hover {\n",
              "      background-color: #434B5C;\n",
              "      box-shadow: 0px 1px 3px 1px rgba(0, 0, 0, 0.15);\n",
              "      filter: drop-shadow(0px 1px 2px rgba(0, 0, 0, 0.3));\n",
              "      fill: #FFFFFF;\n",
              "    }\n",
              "  </style>\n",
              "\n",
              "      <script>\n",
              "        const buttonEl =\n",
              "          document.querySelector('#df-fbeed87f-9d65-4899-a477-68d98e334f04 button.colab-df-convert');\n",
              "        buttonEl.style.display =\n",
              "          google.colab.kernel.accessAllowed ? 'block' : 'none';\n",
              "\n",
              "        async function convertToInteractive(key) {\n",
              "          const element = document.querySelector('#df-fbeed87f-9d65-4899-a477-68d98e334f04');\n",
              "          const dataTable =\n",
              "            await google.colab.kernel.invokeFunction('convertToInteractive',\n",
              "                                                     [key], {});\n",
              "          if (!dataTable) return;\n",
              "\n",
              "          const docLinkHtml = 'Like what you see? Visit the ' +\n",
              "            '<a target=\"_blank\" href=https://colab.research.google.com/notebooks/data_table.ipynb>data table notebook</a>'\n",
              "            + ' to learn more about interactive tables.';\n",
              "          element.innerHTML = '';\n",
              "          dataTable['output_type'] = 'display_data';\n",
              "          await google.colab.output.renderOutput(dataTable, element);\n",
              "          const docLink = document.createElement('div');\n",
              "          docLink.innerHTML = docLinkHtml;\n",
              "          element.appendChild(docLink);\n",
              "        }\n",
              "      </script>\n",
              "    </div>\n",
              "  </div>\n",
              "  "
            ]
          },
          "metadata": {},
          "execution_count": 3
        }
      ]
    },
    {
      "cell_type": "code",
      "metadata": {
        "id": "xWTIpkieyGRw",
        "colab": {
          "base_uri": "https://localhost:8080/"
        },
        "outputId": "4441f95b-ca56-4455-e4c8-6062de6c3060"
      },
      "source": [
        "data.shape # This gives the shape of the DataFrame i.e the (no. of rows, no. of columns)"
      ],
      "execution_count": 4,
      "outputs": [
        {
          "output_type": "execute_result",
          "data": {
            "text/plain": [
              "(303, 14)"
            ]
          },
          "metadata": {},
          "execution_count": 4
        }
      ]
    },
    {
      "cell_type": "markdown",
      "metadata": {
        "id": "Yowhoj1b7SAr"
      },
      "source": [
        "We have 303 examples (rows) in our dataset. "
      ]
    },
    {
      "cell_type": "markdown",
      "metadata": {
        "id": "gh8OOZkpivrd"
      },
      "source": [
        "# Separating Input and Target Variable\n",
        "**Target Variable/ Independent Variable(y):** Our objective is to detect the presence of heart disease. Thus, our target variable will be the column that indicates whether heart disease is present or not. \n",
        "\n",
        "We'll store that column in a variable y.\n",
        "\n",
        "**Input Variables/ Dependent Variables(X):** The remaining columns, without the Target variable will be stored in variable X."
      ]
    },
    {
      "cell_type": "code",
      "metadata": {
        "id": "HRq9zAAPig4S"
      },
      "source": [
        "X = data.drop('target', axis=1) #Input variables\n",
        "# axis=1 indicates that a column will be dropped\n",
        "y = data['target']  # Target variable"
      ],
      "execution_count": 5,
      "outputs": []
    },
    {
      "cell_type": "markdown",
      "metadata": {
        "id": "SoHfnMUpi9Zb"
      },
      "source": [
        "# Splitting into Train and Test Sets\n",
        "The next step will be to divide the data into test and train sets. We want to check the performance of the model that we built. For this purpose, we always split (both input and output data) the given data into **train set** which will be used to train the model, and **test set** which will be used to check how accurately the model is predicting outcomes.\n",
        "\n",
        "This is achieved using `train_test_split` function provided in the `model_selection class of sklearn` module.\n",
        "\n",
        "By passing our X and y variables into the train_test_split method, we are able to capture the splits in data by assigning 4 variables to the result.\n",
        "\n",
        "* **X_train:** independent/input feature data for training the model\n",
        "* **y_train:** dependent/output feature data for training the model\n",
        "* **X_test:** independent/input feature data for testing the model; will be used to predict the output values\n",
        "* **y_test:** original dependent/output values of X_test; We will compare this values with our predicted values to check the performance of our built model.\n",
        "* **test_size = 0.20:** 20% of the data will go for test set and 80% of the data will go for train set\n",
        "* **random_state = 42:** this is just for code reproducability. It will fix the split i.e. there will be the same data in train and test sets each time you run the code"
      ]
    },
    {
      "cell_type": "code",
      "metadata": {
        "id": "Ym3Eiq0Vi7ap"
      },
      "source": [
        "from sklearn.model_selection import train_test_split\n",
        "X_train, X_test, y_train, y_test = train_test_split(X, y, test_size=0.2, random_state=42)"
      ],
      "execution_count": 6,
      "outputs": []
    },
    {
      "cell_type": "code",
      "metadata": {
        "id": "6gdUyMIv_WZK",
        "colab": {
          "base_uri": "https://localhost:8080/"
        },
        "outputId": "8bcb2451-5c2b-440c-9d71-ffe818c5dc9c"
      },
      "source": [
        "# find the number of input features\n",
        "X_train.shape[1]"
      ],
      "execution_count": 7,
      "outputs": [
        {
          "output_type": "execute_result",
          "data": {
            "text/plain": [
              "13"
            ]
          },
          "metadata": {},
          "execution_count": 7
        }
      ]
    },
    {
      "cell_type": "markdown",
      "metadata": {
        "id": "c2vDRUNZjzih"
      },
      "source": [
        "# Model Building\n",
        "Now that we have our data fully processed and split into training and testing datasets, we can begin building a neural network to solve this classification problem. \n",
        "\n",
        "\n"
      ]
    },
    {
      "cell_type": "code",
      "metadata": {
        "id": "yKQIxJtCkPtj"
      },
      "source": [
        "# Imports\n",
        "import tensorflow as tf  # Importing the TensorFlow Library\n",
        "from tensorflow import keras  # Import Keras from TensorFlow\n",
        "\n",
        "from tensorflow.keras import Sequential \n",
        "from tensorflow.keras import layers\n",
        "from tensorflow.keras.layers import Dense"
      ],
      "execution_count": 8,
      "outputs": []
    },
    {
      "cell_type": "markdown",
      "metadata": {
        "id": "J-Sqv2O8m0hP"
      },
      "source": [
        "## Model Creation/ Definition\n",
        "We create a Sequential model and add layers one at a time until we are happy with our network architecture.\n",
        "\n",
        "The first thing to get right is to ensure the input layer has the right number of input features.\n",
        "\n",
        "Since this is a binary classification problem, we will use a sigmoid activation function in the final layer of our network.\n",
        "\n",
        "**Sigmoid is commonly used in the output layer. This is because it helps in giving a probability(value between 0 and 1) which is useful in Binary Classification.**"
      ]
    },
    {
      "cell_type": "markdown",
      "metadata": {
        "id": "BYRdVnR4HJX0"
      },
      "source": [
        "### Our model architecture\n",
        "For our model, we'll be considering the following:\n",
        "\n",
        "* Input = the no. of features in X_train = 13\n",
        "* No. of neurons/units in first Dense layer = 32\n",
        "* No. of neurons/units in second Dense layer = 16\n",
        "* No. of neurons/units in third Dense layer = 8\n",
        "* No. of neurons/units in output layer = 1\n",
        "\n",
        "If you closely look at it, we're slowly decreasing the number of neurons in each layer. Deciding the no. of hidden layers and no. of neurons is a process of trial and error. \n",
        "\n",
        "If you're interested in understanding the intuition behind it better, you can go through the following article: [Beginners Ask “How Many Hidden Layers/Neurons to Use in Artificial Neural Networks?”](https://towardsdatascience.com/beginners-ask-how-many-hidden-layers-neurons-to-use-in-artificial-neural-networks-51466afa0d3e)"
      ]
    },
    {
      "cell_type": "code",
      "metadata": {
        "id": "LjtP40PAkQt5"
      },
      "source": [
        "# Building the model\n",
        "model = Sequential()\n",
        "model.add(Dense(32, activation='relu', input_shape=(X_train.shape[1],)))   \n",
        "model.add(Dense(16, activation='relu'))\n",
        "model.add(Dense(8, activation='relu'))\n",
        "model.add(Dense(1, activation='sigmoid'))                                  "
      ],
      "execution_count": 9,
      "outputs": []
    },
    {
      "cell_type": "markdown",
      "metadata": {
        "id": "mbfh-qTq0anZ"
      },
      "source": [
        "* The above code creates a Neural Network that has 4 layers. \n",
        "\n",
        "* The **last node** uses the **sigmoid activation function** that will squeeze all the values between 0 and 1.\n",
        "\n",
        "* The other layers use **ReLU (Rectified Linear Units)** as the activation function. ReLU is a half rectified function; that is, for all the inputs less than 0 (e.g. -120,-6.7, -0.0344, 0) the value is 0 while for anything positive (e.g. 10,15, 34) the value is retained. \n",
        "\n",
        "* One output unit is used since for each record values in X, a probability will be predicted. If it is high, then the person has a heart disease. If it is less, then the person does not have a heart disease."
      ]
    },
    {
      "cell_type": "markdown",
      "metadata": {
        "id": "1R1xTCNFP3Rf"
      },
      "source": [
        "You might ask \"why we are using relu first and sigmoid at the last?\" or \"How are we choosing the no. of neurons in dense layer?\" etc. Most of it is covered in [this article](https://machinelearningknowledge.ai/activation-functions-neural-network/) and [this article](https://towardsdatascience.com/beginners-ask-how-many-hidden-layers-neurons-to-use-in-artificial-neural-networks-51466afa0d3e) shared earlier. \n",
        "\n",
        "In short, the activation functions have some properties that make one favourable to use at one place and another activation function to be suitable at another place. We will be reading about these properties soon. "
      ]
    },
    {
      "cell_type": "markdown",
      "metadata": {
        "id": "Ime_KfUGm23x"
      },
      "source": [
        "## Model Compilation"
      ]
    },
    {
      "cell_type": "code",
      "metadata": {
        "id": "LZ91pR07kVk7"
      },
      "source": [
        "# Compiling the model\n",
        "from tensorflow.keras.optimizers import RMSprop\n",
        "optimizer = RMSprop(0.001)  # Here, we have set our learning rate as 0.001\n",
        "model.compile(loss='binary_crossentropy', optimizer= optimizer , metrics=['accuracy'])"
      ],
      "execution_count": 10,
      "outputs": []
    },
    {
      "cell_type": "markdown",
      "metadata": {
        "id": "74tA2RWp0mLp"
      },
      "source": [
        "* The above code compiles the network.\n",
        "\n",
        "* The **loss function** used is **binary_crossentropy**. For binary classification problems that give output in the form of probability, binary_crossentropy is usually the optimizer of choice.\n",
        "\n",
        "*  It uses **rmsprop** as an **optimizer**. \n",
        "\n",
        "* The **learning rate** is taken to be **0.001**. You can even try different values to see which works the best.It is important to find a good value for the learning rate for your model on your training dataset. \n",
        "\n",
        "  We cannot analytically calculate the optimal learning rate for a given model on a given dataset. Instead, a good (or good enough) learning rate must be discovered via trial and error.\n",
        "\n",
        "  The range of values to consider for the learning rate is less than 1.0 and greater than $10^{-6}$.\n",
        "\n",
        "  A traditional default value for the learning rate is 0.1, 0.01 or 0.001, and this may represent a good starting point on your problem.\n",
        "\n",
        "* **Metrics** used to evaluate the model is **accuracy**. Accuracy calculates how often the predictions calculated by the model are correct."
      ]
    },
    {
      "cell_type": "code",
      "metadata": {
        "id": "yb2dKfvSkX6s",
        "colab": {
          "base_uri": "https://localhost:8080/"
        },
        "outputId": "aa0ceb10-b6e9-4e3b-9f3b-c700350e6b1f"
      },
      "source": [
        "# printing the summary of the model\n",
        "model.summary()"
      ],
      "execution_count": 11,
      "outputs": [
        {
          "output_type": "stream",
          "name": "stdout",
          "text": [
            "Model: \"sequential\"\n",
            "_________________________________________________________________\n",
            " Layer (type)                Output Shape              Param #   \n",
            "=================================================================\n",
            " dense (Dense)               (None, 32)                448       \n",
            "                                                                 \n",
            " dense_1 (Dense)             (None, 16)                528       \n",
            "                                                                 \n",
            " dense_2 (Dense)             (None, 8)                 136       \n",
            "                                                                 \n",
            " dense_3 (Dense)             (None, 1)                 9         \n",
            "                                                                 \n",
            "=================================================================\n",
            "Total params: 1,121\n",
            "Trainable params: 1,121\n",
            "Non-trainable params: 0\n",
            "_________________________________________________________________\n"
          ]
        }
      ]
    },
    {
      "cell_type": "code",
      "metadata": {
        "id": "dCy_f45e1Qj6",
        "colab": {
          "base_uri": "https://localhost:8080/",
          "height": 466
        },
        "outputId": "a8e3e4bc-d6bc-45f9-96df-fe13aef9fb34"
      },
      "source": [
        "# plotting the model\n",
        "from tensorflow.keras.utils import plot_model\n",
        "plot_model(model)"
      ],
      "execution_count": 12,
      "outputs": [
        {
          "output_type": "execute_result",
          "data": {
            "text/plain": [
              "<IPython.core.display.Image object>"
            ],
            "image/png": "[encoded data removed]"
          },
          "metadata": {},
          "execution_count": 12
        }
      ]
    },
    {
      "cell_type": "markdown",
      "metadata": {
        "id": "4dkmq6YFm7fO"
      },
      "source": [
        "## Model Training\n",
        "The model is initially trained for **200 epochs** with a **batch size of 10**. \n",
        "Both epochs and batch size are hyperparameters that can be modified to optimise the model.\n",
        "\n",
        "**validation_split:** Fraction of the training data to be used as validation data. The model will set apart this fraction of the training data, will not train on it, and will evaluate the loss and any model metrics on this data at the end of each epoch. \n",
        "The val_loss and val_accuracy that you can see below are calculated with this validation data.\n",
        "\n",
        "You'll learn more about the importance of validation data later. \n",
        "\n",
        "**verbose:** Verbose is just for printing purposes, for making the output more readable.\n",
        "\n"
      ]
    },
    {
      "cell_type": "markdown",
      "metadata": {
        "id": "wmQ4ZTih-NFf"
      },
      "source": [
        "### History\n",
        "Notice that we're saving the trained model to a variable **history**. \n",
        "\n",
        "When running a model, Tensorflow Keras maintains a so-called History object in the background. This object keeps all loss values and other metric values in memory so that they can be used for visualizations.\n",
        "\n",
        "The history object is the output of the fit operation."
      ]
    },
    {
      "cell_type": "code",
      "metadata": {
        "id": "0RbTE0FDmEET",
        "colab": {
          "base_uri": "https://localhost:8080/"
        },
        "outputId": "3770ab91-cbd7-4d6d-af5e-5200a3f153e8"
      },
      "source": [
        "history = model.fit(X_train, y_train, validation_split=0.2, epochs=200, batch_size=10, verbose=1)"
      ],
      "execution_count": 13,
      "outputs": [
        {
          "output_type": "stream",
          "name": "stdout",
          "text": [
            "Epoch 1/200\n",
            "20/20 [==============================] - 1s 13ms/step - loss: 1.1321 - accuracy: 0.4715 - val_loss: 0.7729 - val_accuracy: 0.5918\n",
            "Epoch 2/200\n",
            "20/20 [==============================] - 0s 3ms/step - loss: 0.7836 - accuracy: 0.5026 - val_loss: 0.8947 - val_accuracy: 0.5918\n",
            "Epoch 3/200\n",
            "20/20 [==============================] - 0s 4ms/step - loss: 0.7688 - accuracy: 0.5389 - val_loss: 0.8035 - val_accuracy: 0.5714\n",
            "Epoch 4/200\n",
            "20/20 [==============================] - 0s 3ms/step - loss: 0.7644 - accuracy: 0.5285 - val_loss: 1.2331 - val_accuracy: 0.4286\n",
            "Epoch 5/200\n",
            "20/20 [==============================] - 0s 3ms/step - loss: 0.7231 - accuracy: 0.6062 - val_loss: 0.8633 - val_accuracy: 0.5102\n",
            "Epoch 6/200\n",
            "20/20 [==============================] - 0s 5ms/step - loss: 0.7150 - accuracy: 0.5699 - val_loss: 0.6691 - val_accuracy: 0.5918\n",
            "Epoch 7/200\n",
            "20/20 [==============================] - 0s 3ms/step - loss: 0.6851 - accuracy: 0.5751 - val_loss: 0.5836 - val_accuracy: 0.7143\n",
            "Epoch 8/200\n",
            "20/20 [==============================] - 0s 4ms/step - loss: 0.7114 - accuracy: 0.5492 - val_loss: 0.5896 - val_accuracy: 0.7143\n",
            "Epoch 9/200\n",
            "20/20 [==============================] - 0s 3ms/step - loss: 0.6311 - accuracy: 0.6425 - val_loss: 0.6608 - val_accuracy: 0.6122\n",
            "Epoch 10/200\n",
            "20/20 [==============================] - 0s 4ms/step - loss: 0.6946 - accuracy: 0.5803 - val_loss: 0.9464 - val_accuracy: 0.4490\n",
            "Epoch 11/200\n",
            "20/20 [==============================] - 0s 3ms/step - loss: 0.6592 - accuracy: 0.5803 - val_loss: 0.5667 - val_accuracy: 0.7143\n",
            "Epoch 12/200\n",
            "20/20 [==============================] - 0s 4ms/step - loss: 0.6589 - accuracy: 0.6218 - val_loss: 0.6935 - val_accuracy: 0.6327\n",
            "Epoch 13/200\n",
            "20/20 [==============================] - 0s 4ms/step - loss: 0.6089 - accuracy: 0.6736 - val_loss: 1.1245 - val_accuracy: 0.5918\n",
            "Epoch 14/200\n",
            "20/20 [==============================] - 0s 3ms/step - loss: 0.6588 - accuracy: 0.6632 - val_loss: 0.9714 - val_accuracy: 0.5918\n",
            "Epoch 15/200\n",
            "20/20 [==============================] - 0s 3ms/step - loss: 0.5818 - accuracy: 0.7358 - val_loss: 0.5321 - val_accuracy: 0.7755\n",
            "Epoch 16/200\n",
            "20/20 [==============================] - 0s 4ms/step - loss: 0.6180 - accuracy: 0.6321 - val_loss: 0.6506 - val_accuracy: 0.4898\n",
            "Epoch 17/200\n",
            "20/20 [==============================] - 0s 3ms/step - loss: 0.6108 - accuracy: 0.6477 - val_loss: 0.7230 - val_accuracy: 0.6122\n",
            "Epoch 18/200\n",
            "20/20 [==============================] - 0s 3ms/step - loss: 0.6196 - accuracy: 0.6373 - val_loss: 0.7012 - val_accuracy: 0.6531\n",
            "Epoch 19/200\n",
            "20/20 [==============================] - 0s 4ms/step - loss: 0.6190 - accuracy: 0.6632 - val_loss: 0.8697 - val_accuracy: 0.6122\n",
            "Epoch 20/200\n",
            "20/20 [==============================] - 0s 3ms/step - loss: 0.5879 - accuracy: 0.7150 - val_loss: 0.5440 - val_accuracy: 0.7959\n",
            "Epoch 21/200\n",
            "20/20 [==============================] - 0s 4ms/step - loss: 0.5859 - accuracy: 0.6788 - val_loss: 0.5194 - val_accuracy: 0.7959\n",
            "Epoch 22/200\n",
            "20/20 [==============================] - 0s 3ms/step - loss: 0.5684 - accuracy: 0.6839 - val_loss: 0.6381 - val_accuracy: 0.6939\n",
            "Epoch 23/200\n",
            "20/20 [==============================] - 0s 3ms/step - loss: 0.5740 - accuracy: 0.6736 - val_loss: 1.0424 - val_accuracy: 0.4490\n",
            "Epoch 24/200\n",
            "20/20 [==============================] - 0s 4ms/step - loss: 0.6160 - accuracy: 0.6477 - val_loss: 0.7630 - val_accuracy: 0.6327\n",
            "Epoch 25/200\n",
            "20/20 [==============================] - 0s 4ms/step - loss: 0.5952 - accuracy: 0.7047 - val_loss: 0.5201 - val_accuracy: 0.7959\n",
            "Epoch 26/200\n",
            "20/20 [==============================] - 0s 4ms/step - loss: 0.5495 - accuracy: 0.7409 - val_loss: 0.5513 - val_accuracy: 0.7551\n",
            "Epoch 27/200\n",
            "20/20 [==============================] - 0s 4ms/step - loss: 0.5921 - accuracy: 0.6839 - val_loss: 0.5071 - val_accuracy: 0.7347\n",
            "Epoch 28/200\n",
            "20/20 [==============================] - 0s 3ms/step - loss: 0.5727 - accuracy: 0.6788 - val_loss: 1.0809 - val_accuracy: 0.4694\n",
            "Epoch 29/200\n",
            "20/20 [==============================] - 0s 4ms/step - loss: 0.5564 - accuracy: 0.6995 - val_loss: 0.6048 - val_accuracy: 0.7143\n",
            "Epoch 30/200\n",
            "20/20 [==============================] - 0s 3ms/step - loss: 0.5530 - accuracy: 0.6839 - val_loss: 0.6235 - val_accuracy: 0.7143\n",
            "Epoch 31/200\n",
            "20/20 [==============================] - 0s 3ms/step - loss: 0.5302 - accuracy: 0.7306 - val_loss: 0.7784 - val_accuracy: 0.6327\n",
            "Epoch 32/200\n",
            "20/20 [==============================] - 0s 4ms/step - loss: 0.5946 - accuracy: 0.6736 - val_loss: 0.5492 - val_accuracy: 0.7959\n",
            "Epoch 33/200\n",
            "20/20 [==============================] - 0s 3ms/step - loss: 0.5330 - accuracy: 0.7254 - val_loss: 1.2453 - val_accuracy: 0.4694\n",
            "Epoch 34/200\n",
            "20/20 [==============================] - 0s 3ms/step - loss: 0.5573 - accuracy: 0.7254 - val_loss: 0.6544 - val_accuracy: 0.7143\n",
            "Epoch 35/200\n",
            "20/20 [==============================] - 0s 4ms/step - loss: 0.5394 - accuracy: 0.7254 - val_loss: 0.8555 - val_accuracy: 0.4694\n",
            "Epoch 36/200\n",
            "20/20 [==============================] - 0s 4ms/step - loss: 0.5322 - accuracy: 0.7202 - val_loss: 0.5614 - val_accuracy: 0.6735\n",
            "Epoch 37/200\n",
            "20/20 [==============================] - 0s 4ms/step - loss: 0.5232 - accuracy: 0.7565 - val_loss: 0.5173 - val_accuracy: 0.7959\n",
            "Epoch 38/200\n",
            "20/20 [==============================] - 0s 3ms/step - loss: 0.5110 - accuracy: 0.7409 - val_loss: 0.7511 - val_accuracy: 0.4898\n",
            "Epoch 39/200\n",
            "20/20 [==============================] - 0s 3ms/step - loss: 0.5280 - accuracy: 0.7098 - val_loss: 0.5257 - val_accuracy: 0.7143\n",
            "Epoch 40/200\n",
            "20/20 [==============================] - 0s 3ms/step - loss: 0.5617 - accuracy: 0.7513 - val_loss: 0.6951 - val_accuracy: 0.5102\n",
            "Epoch 41/200\n",
            "20/20 [==============================] - 0s 4ms/step - loss: 0.5062 - accuracy: 0.7150 - val_loss: 0.5778 - val_accuracy: 0.7959\n",
            "Epoch 42/200\n",
            "20/20 [==============================] - 0s 4ms/step - loss: 0.5257 - accuracy: 0.7202 - val_loss: 0.4948 - val_accuracy: 0.8163\n",
            "Epoch 43/200\n",
            "20/20 [==============================] - 0s 3ms/step - loss: 0.5300 - accuracy: 0.7254 - val_loss: 1.1116 - val_accuracy: 0.4694\n",
            "Epoch 44/200\n",
            "20/20 [==============================] - 0s 3ms/step - loss: 0.5699 - accuracy: 0.6788 - val_loss: 0.5557 - val_accuracy: 0.7347\n",
            "Epoch 45/200\n",
            "20/20 [==============================] - 0s 4ms/step - loss: 0.5163 - accuracy: 0.7409 - val_loss: 0.9254 - val_accuracy: 0.4490\n",
            "Epoch 46/200\n",
            "20/20 [==============================] - 0s 3ms/step - loss: 0.5527 - accuracy: 0.7513 - val_loss: 0.6051 - val_accuracy: 0.6327\n",
            "Epoch 47/200\n",
            "20/20 [==============================] - 0s 4ms/step - loss: 0.5110 - accuracy: 0.7306 - val_loss: 0.4917 - val_accuracy: 0.7347\n",
            "Epoch 48/200\n",
            "20/20 [==============================] - 0s 3ms/step - loss: 0.4973 - accuracy: 0.7513 - val_loss: 0.4765 - val_accuracy: 0.7755\n",
            "Epoch 49/200\n",
            "20/20 [==============================] - 0s 3ms/step - loss: 0.4661 - accuracy: 0.7824 - val_loss: 0.5716 - val_accuracy: 0.7755\n",
            "Epoch 50/200\n",
            "20/20 [==============================] - 0s 3ms/step - loss: 0.5313 - accuracy: 0.7150 - val_loss: 0.6494 - val_accuracy: 0.6122\n",
            "Epoch 51/200\n",
            "20/20 [==============================] - 0s 4ms/step - loss: 0.5026 - accuracy: 0.7565 - val_loss: 1.2120 - val_accuracy: 0.4694\n",
            "Epoch 52/200\n",
            "20/20 [==============================] - 0s 4ms/step - loss: 0.4675 - accuracy: 0.7824 - val_loss: 0.8651 - val_accuracy: 0.6531\n",
            "Epoch 53/200\n",
            "20/20 [==============================] - 0s 4ms/step - loss: 0.5513 - accuracy: 0.7461 - val_loss: 0.5880 - val_accuracy: 0.6939\n",
            "Epoch 54/200\n",
            "20/20 [==============================] - 0s 3ms/step - loss: 0.4948 - accuracy: 0.7720 - val_loss: 0.4911 - val_accuracy: 0.7143\n",
            "Epoch 55/200\n",
            "20/20 [==============================] - 0s 4ms/step - loss: 0.4612 - accuracy: 0.7720 - val_loss: 0.9866 - val_accuracy: 0.4694\n",
            "Epoch 56/200\n",
            "20/20 [==============================] - 0s 4ms/step - loss: 0.5451 - accuracy: 0.7202 - val_loss: 0.7759 - val_accuracy: 0.5306\n",
            "Epoch 57/200\n",
            "20/20 [==============================] - 0s 4ms/step - loss: 0.4822 - accuracy: 0.7461 - val_loss: 0.6338 - val_accuracy: 0.7959\n",
            "Epoch 58/200\n",
            "20/20 [==============================] - 0s 3ms/step - loss: 0.4691 - accuracy: 0.7979 - val_loss: 0.8526 - val_accuracy: 0.6531\n",
            "Epoch 59/200\n",
            "20/20 [==============================] - 0s 3ms/step - loss: 0.4791 - accuracy: 0.7513 - val_loss: 0.4838 - val_accuracy: 0.8163\n",
            "Epoch 60/200\n",
            "20/20 [==============================] - 0s 3ms/step - loss: 0.4788 - accuracy: 0.7824 - val_loss: 0.5680 - val_accuracy: 0.7959\n",
            "Epoch 61/200\n",
            "20/20 [==============================] - 0s 4ms/step - loss: 0.5273 - accuracy: 0.7358 - val_loss: 0.5367 - val_accuracy: 0.7347\n",
            "Epoch 62/200\n",
            "20/20 [==============================] - 0s 3ms/step - loss: 0.4592 - accuracy: 0.7513 - val_loss: 0.4843 - val_accuracy: 0.7755\n",
            "Epoch 63/200\n",
            "20/20 [==============================] - 0s 3ms/step - loss: 0.4872 - accuracy: 0.7409 - val_loss: 0.4633 - val_accuracy: 0.7347\n",
            "Epoch 64/200\n",
            "20/20 [==============================] - 0s 3ms/step - loss: 0.4429 - accuracy: 0.8135 - val_loss: 0.4898 - val_accuracy: 0.7347\n",
            "Epoch 65/200\n",
            "20/20 [==============================] - 0s 3ms/step - loss: 0.4708 - accuracy: 0.7772 - val_loss: 0.4650 - val_accuracy: 0.7959\n",
            "Epoch 66/200\n",
            "20/20 [==============================] - 0s 4ms/step - loss: 0.4835 - accuracy: 0.7876 - val_loss: 0.7404 - val_accuracy: 0.7551\n",
            "Epoch 67/200\n",
            "20/20 [==============================] - 0s 3ms/step - loss: 0.4549 - accuracy: 0.7513 - val_loss: 0.5344 - val_accuracy: 0.7755\n",
            "Epoch 68/200\n",
            "20/20 [==============================] - 0s 3ms/step - loss: 0.4499 - accuracy: 0.8290 - val_loss: 0.9461 - val_accuracy: 0.5306\n",
            "Epoch 69/200\n",
            "20/20 [==============================] - 0s 3ms/step - loss: 0.4850 - accuracy: 0.7617 - val_loss: 0.5508 - val_accuracy: 0.7755\n",
            "Epoch 70/200\n",
            "20/20 [==============================] - 0s 3ms/step - loss: 0.4204 - accuracy: 0.8238 - val_loss: 0.5821 - val_accuracy: 0.7755\n",
            "Epoch 71/200\n",
            "20/20 [==============================] - 0s 4ms/step - loss: 0.4410 - accuracy: 0.7979 - val_loss: 0.6930 - val_accuracy: 0.6531\n",
            "Epoch 72/200\n",
            "20/20 [==============================] - 0s 3ms/step - loss: 0.4357 - accuracy: 0.8031 - val_loss: 0.7185 - val_accuracy: 0.7959\n",
            "Epoch 73/200\n",
            "20/20 [==============================] - 0s 4ms/step - loss: 0.4455 - accuracy: 0.7772 - val_loss: 0.8830 - val_accuracy: 0.5102\n",
            "Epoch 74/200\n",
            "20/20 [==============================] - 0s 4ms/step - loss: 0.4373 - accuracy: 0.7876 - val_loss: 0.5967 - val_accuracy: 0.7755\n",
            "Epoch 75/200\n",
            "20/20 [==============================] - 0s 3ms/step - loss: 0.4334 - accuracy: 0.7668 - val_loss: 1.0206 - val_accuracy: 0.4694\n",
            "Epoch 76/200\n",
            "20/20 [==============================] - 0s 3ms/step - loss: 0.4628 - accuracy: 0.7720 - val_loss: 0.5534 - val_accuracy: 0.7143\n",
            "Epoch 77/200\n",
            "20/20 [==============================] - 0s 3ms/step - loss: 0.4476 - accuracy: 0.7202 - val_loss: 0.4974 - val_accuracy: 0.7347\n",
            "Epoch 78/200\n",
            "20/20 [==============================] - 0s 3ms/step - loss: 0.4538 - accuracy: 0.7668 - val_loss: 0.4901 - val_accuracy: 0.7755\n",
            "Epoch 79/200\n",
            "20/20 [==============================] - 0s 3ms/step - loss: 0.4455 - accuracy: 0.7979 - val_loss: 0.6190 - val_accuracy: 0.6531\n",
            "Epoch 80/200\n",
            "20/20 [==============================] - 0s 3ms/step - loss: 0.4311 - accuracy: 0.7876 - val_loss: 0.6899 - val_accuracy: 0.6531\n",
            "Epoch 81/200\n",
            "20/20 [==============================] - 0s 4ms/step - loss: 0.4376 - accuracy: 0.8031 - val_loss: 0.4767 - val_accuracy: 0.7551\n",
            "Epoch 82/200\n",
            "20/20 [==============================] - 0s 3ms/step - loss: 0.4371 - accuracy: 0.8083 - val_loss: 0.7728 - val_accuracy: 0.5918\n",
            "Epoch 83/200\n",
            "20/20 [==============================] - 0s 3ms/step - loss: 0.4509 - accuracy: 0.8135 - val_loss: 0.4623 - val_accuracy: 0.7143\n",
            "Epoch 84/200\n",
            "20/20 [==============================] - 0s 4ms/step - loss: 0.4182 - accuracy: 0.7927 - val_loss: 0.5811 - val_accuracy: 0.7143\n",
            "Epoch 85/200\n",
            "20/20 [==============================] - 0s 3ms/step - loss: 0.4369 - accuracy: 0.7513 - val_loss: 0.8381 - val_accuracy: 0.5714\n",
            "Epoch 86/200\n",
            "20/20 [==============================] - 0s 3ms/step - loss: 0.4402 - accuracy: 0.7824 - val_loss: 0.5243 - val_accuracy: 0.7959\n",
            "Epoch 87/200\n",
            "20/20 [==============================] - 0s 5ms/step - loss: 0.4456 - accuracy: 0.7927 - val_loss: 0.4812 - val_accuracy: 0.7959\n",
            "Epoch 88/200\n",
            "20/20 [==============================] - 0s 4ms/step - loss: 0.4067 - accuracy: 0.7772 - val_loss: 0.7107 - val_accuracy: 0.7959\n",
            "Epoch 89/200\n",
            "20/20 [==============================] - 0s 3ms/step - loss: 0.4145 - accuracy: 0.7927 - val_loss: 1.0826 - val_accuracy: 0.4898\n",
            "Epoch 90/200\n",
            "20/20 [==============================] - 0s 4ms/step - loss: 0.4317 - accuracy: 0.7927 - val_loss: 0.5253 - val_accuracy: 0.7347\n",
            "Epoch 91/200\n",
            "20/20 [==============================] - 0s 3ms/step - loss: 0.4508 - accuracy: 0.7927 - val_loss: 0.4776 - val_accuracy: 0.7551\n",
            "Epoch 92/200\n",
            "20/20 [==============================] - 0s 4ms/step - loss: 0.4266 - accuracy: 0.7979 - val_loss: 0.5438 - val_accuracy: 0.6939\n",
            "Epoch 93/200\n",
            "20/20 [==============================] - 0s 3ms/step - loss: 0.4297 - accuracy: 0.7927 - val_loss: 0.5240 - val_accuracy: 0.7959\n",
            "Epoch 94/200\n",
            "20/20 [==============================] - 0s 4ms/step - loss: 0.4276 - accuracy: 0.7720 - val_loss: 1.0329 - val_accuracy: 0.5510\n",
            "Epoch 95/200\n",
            "20/20 [==============================] - 0s 3ms/step - loss: 0.4268 - accuracy: 0.8187 - val_loss: 0.6249 - val_accuracy: 0.7755\n",
            "Epoch 96/200\n",
            "20/20 [==============================] - 0s 3ms/step - loss: 0.4394 - accuracy: 0.7927 - val_loss: 0.6320 - val_accuracy: 0.6735\n",
            "Epoch 97/200\n",
            "20/20 [==============================] - 0s 3ms/step - loss: 0.3974 - accuracy: 0.8031 - val_loss: 0.5367 - val_accuracy: 0.7551\n",
            "Epoch 98/200\n",
            "20/20 [==============================] - 0s 4ms/step - loss: 0.4299 - accuracy: 0.7720 - val_loss: 0.5249 - val_accuracy: 0.7551\n",
            "Epoch 99/200\n",
            "20/20 [==============================] - 0s 4ms/step - loss: 0.4329 - accuracy: 0.8238 - val_loss: 0.6900 - val_accuracy: 0.7959\n",
            "Epoch 100/200\n",
            "20/20 [==============================] - 0s 4ms/step - loss: 0.4593 - accuracy: 0.7668 - val_loss: 0.5571 - val_accuracy: 0.6939\n",
            "Epoch 101/200\n",
            "20/20 [==============================] - 0s 3ms/step - loss: 0.3788 - accuracy: 0.8446 - val_loss: 0.8294 - val_accuracy: 0.5918\n",
            "Epoch 102/200\n",
            "20/20 [==============================] - 0s 4ms/step - loss: 0.4174 - accuracy: 0.7927 - val_loss: 0.5999 - val_accuracy: 0.7143\n",
            "Epoch 103/200\n",
            "20/20 [==============================] - 0s 4ms/step - loss: 0.4697 - accuracy: 0.7772 - val_loss: 0.4594 - val_accuracy: 0.7959\n",
            "Epoch 104/200\n",
            "20/20 [==============================] - 0s 4ms/step - loss: 0.4089 - accuracy: 0.7876 - val_loss: 0.6407 - val_accuracy: 0.6531\n",
            "Epoch 105/200\n",
            "20/20 [==============================] - 0s 3ms/step - loss: 0.4222 - accuracy: 0.8083 - val_loss: 0.9143 - val_accuracy: 0.5918\n",
            "Epoch 106/200\n",
            "20/20 [==============================] - 0s 4ms/step - loss: 0.4138 - accuracy: 0.8290 - val_loss: 0.4707 - val_accuracy: 0.7959\n",
            "Epoch 107/200\n",
            "20/20 [==============================] - 0s 3ms/step - loss: 0.3977 - accuracy: 0.7927 - val_loss: 0.5327 - val_accuracy: 0.7551\n",
            "Epoch 108/200\n",
            "20/20 [==============================] - 0s 4ms/step - loss: 0.4265 - accuracy: 0.8083 - val_loss: 0.8995 - val_accuracy: 0.5714\n",
            "Epoch 109/200\n",
            "20/20 [==============================] - 0s 3ms/step - loss: 0.4009 - accuracy: 0.8290 - val_loss: 0.8417 - val_accuracy: 0.5918\n",
            "Epoch 110/200\n",
            "20/20 [==============================] - 0s 3ms/step - loss: 0.4527 - accuracy: 0.7772 - val_loss: 0.4821 - val_accuracy: 0.7551\n",
            "Epoch 111/200\n",
            "20/20 [==============================] - 0s 4ms/step - loss: 0.4358 - accuracy: 0.7979 - val_loss: 0.8122 - val_accuracy: 0.5918\n",
            "Epoch 112/200\n",
            "20/20 [==============================] - 0s 4ms/step - loss: 0.4253 - accuracy: 0.8135 - val_loss: 0.4620 - val_accuracy: 0.7551\n",
            "Epoch 113/200\n",
            "20/20 [==============================] - 0s 4ms/step - loss: 0.3736 - accuracy: 0.8187 - val_loss: 0.6425 - val_accuracy: 0.7755\n",
            "Epoch 114/200\n",
            "20/20 [==============================] - 0s 4ms/step - loss: 0.3863 - accuracy: 0.8290 - val_loss: 0.6029 - val_accuracy: 0.7959\n",
            "Epoch 115/200\n",
            "20/20 [==============================] - 0s 3ms/step - loss: 0.3901 - accuracy: 0.8342 - val_loss: 0.7631 - val_accuracy: 0.7959\n",
            "Epoch 116/200\n",
            "20/20 [==============================] - 0s 4ms/step - loss: 0.4047 - accuracy: 0.8187 - val_loss: 0.7287 - val_accuracy: 0.6122\n",
            "Epoch 117/200\n",
            "20/20 [==============================] - 0s 4ms/step - loss: 0.4072 - accuracy: 0.7824 - val_loss: 0.6786 - val_accuracy: 0.6122\n",
            "Epoch 118/200\n",
            "20/20 [==============================] - 0s 4ms/step - loss: 0.4062 - accuracy: 0.7927 - val_loss: 0.5125 - val_accuracy: 0.7347\n",
            "Epoch 119/200\n",
            "20/20 [==============================] - 0s 3ms/step - loss: 0.4101 - accuracy: 0.8083 - val_loss: 0.5584 - val_accuracy: 0.7143\n",
            "Epoch 120/200\n",
            "20/20 [==============================] - 0s 4ms/step - loss: 0.3685 - accuracy: 0.8238 - val_loss: 0.5058 - val_accuracy: 0.7755\n",
            "Epoch 121/200\n",
            "20/20 [==============================] - 0s 3ms/step - loss: 0.4161 - accuracy: 0.7876 - val_loss: 0.4849 - val_accuracy: 0.7755\n",
            "Epoch 122/200\n",
            "20/20 [==============================] - 0s 3ms/step - loss: 0.3975 - accuracy: 0.8135 - val_loss: 0.6041 - val_accuracy: 0.7755\n",
            "Epoch 123/200\n",
            "20/20 [==============================] - 0s 3ms/step - loss: 0.3785 - accuracy: 0.8394 - val_loss: 0.4949 - val_accuracy: 0.7755\n",
            "Epoch 124/200\n",
            "20/20 [==============================] - 0s 3ms/step - loss: 0.3959 - accuracy: 0.8135 - val_loss: 1.0529 - val_accuracy: 0.5102\n",
            "Epoch 125/200\n",
            "20/20 [==============================] - 0s 4ms/step - loss: 0.4357 - accuracy: 0.7876 - val_loss: 0.4596 - val_accuracy: 0.7755\n",
            "Epoch 126/200\n",
            "20/20 [==============================] - 0s 4ms/step - loss: 0.3941 - accuracy: 0.8290 - val_loss: 0.5135 - val_accuracy: 0.8163\n",
            "Epoch 127/200\n",
            "20/20 [==============================] - 0s 3ms/step - loss: 0.3879 - accuracy: 0.7927 - val_loss: 0.4791 - val_accuracy: 0.7551\n",
            "Epoch 128/200\n",
            "20/20 [==============================] - 0s 4ms/step - loss: 0.3972 - accuracy: 0.8394 - val_loss: 0.4630 - val_accuracy: 0.7959\n",
            "Epoch 129/200\n",
            "20/20 [==============================] - 0s 3ms/step - loss: 0.3948 - accuracy: 0.8342 - val_loss: 0.5521 - val_accuracy: 0.7959\n",
            "Epoch 130/200\n",
            "20/20 [==============================] - 0s 3ms/step - loss: 0.4251 - accuracy: 0.8135 - val_loss: 0.4497 - val_accuracy: 0.8163\n",
            "Epoch 131/200\n",
            "20/20 [==============================] - 0s 4ms/step - loss: 0.4016 - accuracy: 0.7927 - val_loss: 0.4396 - val_accuracy: 0.7551\n",
            "Epoch 132/200\n",
            "20/20 [==============================] - 0s 3ms/step - loss: 0.4097 - accuracy: 0.8187 - val_loss: 0.6258 - val_accuracy: 0.7143\n",
            "Epoch 133/200\n",
            "20/20 [==============================] - 0s 4ms/step - loss: 0.3941 - accuracy: 0.8290 - val_loss: 0.5865 - val_accuracy: 0.8163\n",
            "Epoch 134/200\n",
            "20/20 [==============================] - 0s 3ms/step - loss: 0.3628 - accuracy: 0.8446 - val_loss: 0.5367 - val_accuracy: 0.8163\n",
            "Epoch 135/200\n",
            "20/20 [==============================] - 0s 3ms/step - loss: 0.3901 - accuracy: 0.8342 - val_loss: 0.4309 - val_accuracy: 0.7551\n",
            "Epoch 136/200\n",
            "20/20 [==============================] - 0s 3ms/step - loss: 0.4230 - accuracy: 0.7979 - val_loss: 0.4658 - val_accuracy: 0.7959\n",
            "Epoch 137/200\n",
            "20/20 [==============================] - 0s 4ms/step - loss: 0.3975 - accuracy: 0.8238 - val_loss: 0.5470 - val_accuracy: 0.7347\n",
            "Epoch 138/200\n",
            "20/20 [==============================] - 0s 4ms/step - loss: 0.3557 - accuracy: 0.8394 - val_loss: 0.4550 - val_accuracy: 0.8163\n",
            "Epoch 139/200\n",
            "20/20 [==============================] - 0s 3ms/step - loss: 0.3709 - accuracy: 0.8290 - val_loss: 0.4485 - val_accuracy: 0.7755\n",
            "Epoch 140/200\n",
            "20/20 [==============================] - 0s 3ms/step - loss: 0.3618 - accuracy: 0.8446 - val_loss: 0.4972 - val_accuracy: 0.7959\n",
            "Epoch 141/200\n",
            "20/20 [==============================] - 0s 3ms/step - loss: 0.3949 - accuracy: 0.8342 - val_loss: 0.4784 - val_accuracy: 0.7959\n",
            "Epoch 142/200\n",
            "20/20 [==============================] - 0s 4ms/step - loss: 0.3992 - accuracy: 0.8031 - val_loss: 0.4387 - val_accuracy: 0.7143\n",
            "Epoch 143/200\n",
            "20/20 [==============================] - 0s 3ms/step - loss: 0.3809 - accuracy: 0.7927 - val_loss: 0.5619 - val_accuracy: 0.8163\n",
            "Epoch 144/200\n",
            "20/20 [==============================] - 0s 3ms/step - loss: 0.3714 - accuracy: 0.8238 - val_loss: 0.5225 - val_accuracy: 0.7959\n",
            "Epoch 145/200\n",
            "20/20 [==============================] - 0s 4ms/step - loss: 0.3944 - accuracy: 0.8238 - val_loss: 0.7373 - val_accuracy: 0.6531\n",
            "Epoch 146/200\n",
            "20/20 [==============================] - 0s 3ms/step - loss: 0.4288 - accuracy: 0.7979 - val_loss: 0.5337 - val_accuracy: 0.7551\n",
            "Epoch 147/200\n",
            "20/20 [==============================] - 0s 4ms/step - loss: 0.3423 - accuracy: 0.8446 - val_loss: 0.4534 - val_accuracy: 0.7959\n",
            "Epoch 148/200\n",
            "20/20 [==============================] - 0s 4ms/step - loss: 0.3975 - accuracy: 0.8083 - val_loss: 0.4420 - val_accuracy: 0.8367\n",
            "Epoch 149/200\n",
            "20/20 [==============================] - 0s 4ms/step - loss: 0.3601 - accuracy: 0.8290 - val_loss: 0.4784 - val_accuracy: 0.7551\n",
            "Epoch 150/200\n",
            "20/20 [==============================] - 0s 4ms/step - loss: 0.3839 - accuracy: 0.8342 - val_loss: 0.4686 - val_accuracy: 0.7959\n",
            "Epoch 151/200\n",
            "20/20 [==============================] - 0s 3ms/step - loss: 0.3716 - accuracy: 0.8187 - val_loss: 0.9608 - val_accuracy: 0.5714\n",
            "Epoch 152/200\n",
            "20/20 [==============================] - 0s 4ms/step - loss: 0.3654 - accuracy: 0.8394 - val_loss: 0.7260 - val_accuracy: 0.6327\n",
            "Epoch 153/200\n",
            "20/20 [==============================] - 0s 4ms/step - loss: 0.3604 - accuracy: 0.8238 - val_loss: 0.4537 - val_accuracy: 0.8163\n",
            "Epoch 154/200\n",
            "20/20 [==============================] - 0s 3ms/step - loss: 0.3849 - accuracy: 0.7979 - val_loss: 0.4589 - val_accuracy: 0.7347\n",
            "Epoch 155/200\n",
            "20/20 [==============================] - 0s 3ms/step - loss: 0.4112 - accuracy: 0.8083 - val_loss: 0.4200 - val_accuracy: 0.7755\n",
            "Epoch 156/200\n",
            "20/20 [==============================] - 0s 3ms/step - loss: 0.3843 - accuracy: 0.8187 - val_loss: 0.4367 - val_accuracy: 0.7347\n",
            "Epoch 157/200\n",
            "20/20 [==============================] - 0s 3ms/step - loss: 0.3865 - accuracy: 0.8446 - val_loss: 0.6036 - val_accuracy: 0.6735\n",
            "Epoch 158/200\n",
            "20/20 [==============================] - 0s 3ms/step - loss: 0.3733 - accuracy: 0.7927 - val_loss: 0.4986 - val_accuracy: 0.8163\n",
            "Epoch 159/200\n",
            "20/20 [==============================] - 0s 3ms/step - loss: 0.3519 - accuracy: 0.8497 - val_loss: 0.4531 - val_accuracy: 0.7755\n",
            "Epoch 160/200\n",
            "20/20 [==============================] - 0s 3ms/step - loss: 0.3681 - accuracy: 0.8394 - val_loss: 0.4967 - val_accuracy: 0.7755\n",
            "Epoch 161/200\n",
            "20/20 [==============================] - 0s 4ms/step - loss: 0.3775 - accuracy: 0.8342 - val_loss: 0.4869 - val_accuracy: 0.8163\n",
            "Epoch 162/200\n",
            "20/20 [==============================] - 0s 4ms/step - loss: 0.4322 - accuracy: 0.7772 - val_loss: 0.4792 - val_accuracy: 0.7755\n",
            "Epoch 163/200\n",
            "20/20 [==============================] - 0s 3ms/step - loss: 0.3295 - accuracy: 0.8238 - val_loss: 0.4887 - val_accuracy: 0.7959\n",
            "Epoch 164/200\n",
            "20/20 [==============================] - 0s 3ms/step - loss: 0.3882 - accuracy: 0.8342 - val_loss: 0.4695 - val_accuracy: 0.7959\n",
            "Epoch 165/200\n",
            "20/20 [==============================] - 0s 4ms/step - loss: 0.3471 - accuracy: 0.8497 - val_loss: 0.5285 - val_accuracy: 0.7347\n",
            "Epoch 166/200\n",
            "20/20 [==============================] - 0s 4ms/step - loss: 0.3870 - accuracy: 0.8083 - val_loss: 0.6337 - val_accuracy: 0.7959\n",
            "Epoch 167/200\n",
            "20/20 [==============================] - 0s 4ms/step - loss: 0.4077 - accuracy: 0.8135 - val_loss: 0.6450 - val_accuracy: 0.7959\n",
            "Epoch 168/200\n",
            "20/20 [==============================] - 0s 3ms/step - loss: 0.4174 - accuracy: 0.7979 - val_loss: 0.4136 - val_accuracy: 0.7551\n",
            "Epoch 169/200\n",
            "20/20 [==============================] - 0s 3ms/step - loss: 0.3283 - accuracy: 0.8549 - val_loss: 0.9524 - val_accuracy: 0.7551\n",
            "Epoch 170/200\n",
            "20/20 [==============================] - 0s 3ms/step - loss: 0.3959 - accuracy: 0.8238 - val_loss: 0.4566 - val_accuracy: 0.8163\n",
            "Epoch 171/200\n",
            "20/20 [==============================] - 0s 3ms/step - loss: 0.3845 - accuracy: 0.8342 - val_loss: 0.4534 - val_accuracy: 0.7959\n",
            "Epoch 172/200\n",
            "20/20 [==============================] - 0s 4ms/step - loss: 0.3653 - accuracy: 0.8187 - val_loss: 0.7686 - val_accuracy: 0.6939\n",
            "Epoch 173/200\n",
            "20/20 [==============================] - 0s 3ms/step - loss: 0.3614 - accuracy: 0.8497 - val_loss: 0.4479 - val_accuracy: 0.7755\n",
            "Epoch 174/200\n",
            "20/20 [==============================] - 0s 3ms/step - loss: 0.3476 - accuracy: 0.8601 - val_loss: 0.5179 - val_accuracy: 0.7755\n",
            "Epoch 175/200\n",
            "20/20 [==============================] - 0s 4ms/step - loss: 0.3721 - accuracy: 0.8394 - val_loss: 0.4602 - val_accuracy: 0.8163\n",
            "Epoch 176/200\n",
            "20/20 [==============================] - 0s 3ms/step - loss: 0.3378 - accuracy: 0.8756 - val_loss: 0.4497 - val_accuracy: 0.8367\n",
            "Epoch 177/200\n",
            "20/20 [==============================] - 0s 4ms/step - loss: 0.3842 - accuracy: 0.8238 - val_loss: 0.4780 - val_accuracy: 0.7347\n",
            "Epoch 178/200\n",
            "20/20 [==============================] - 0s 3ms/step - loss: 0.3332 - accuracy: 0.8705 - val_loss: 0.5164 - val_accuracy: 0.7959\n",
            "Epoch 179/200\n",
            "20/20 [==============================] - 0s 3ms/step - loss: 0.3871 - accuracy: 0.8342 - val_loss: 0.4823 - val_accuracy: 0.8163\n",
            "Epoch 180/200\n",
            "20/20 [==============================] - 0s 3ms/step - loss: 0.3626 - accuracy: 0.8290 - val_loss: 0.4984 - val_accuracy: 0.7755\n",
            "Epoch 181/200\n",
            "20/20 [==============================] - 0s 3ms/step - loss: 0.3535 - accuracy: 0.8446 - val_loss: 0.5995 - val_accuracy: 0.7551\n",
            "Epoch 182/200\n",
            "20/20 [==============================] - 0s 3ms/step - loss: 0.3444 - accuracy: 0.8549 - val_loss: 0.5367 - val_accuracy: 0.7551\n",
            "Epoch 183/200\n",
            "20/20 [==============================] - 0s 3ms/step - loss: 0.3897 - accuracy: 0.8290 - val_loss: 0.4845 - val_accuracy: 0.7755\n",
            "Epoch 184/200\n",
            "20/20 [==============================] - 0s 4ms/step - loss: 0.3515 - accuracy: 0.8342 - val_loss: 0.7439 - val_accuracy: 0.7959\n",
            "Epoch 185/200\n",
            "20/20 [==============================] - 0s 3ms/step - loss: 0.3816 - accuracy: 0.8187 - val_loss: 0.4986 - val_accuracy: 0.7959\n",
            "Epoch 186/200\n",
            "20/20 [==============================] - 0s 3ms/step - loss: 0.3411 - accuracy: 0.8342 - val_loss: 0.5932 - val_accuracy: 0.6939\n",
            "Epoch 187/200\n",
            "20/20 [==============================] - 0s 4ms/step - loss: 0.3658 - accuracy: 0.8135 - val_loss: 0.5438 - val_accuracy: 0.8163\n",
            "Epoch 188/200\n",
            "20/20 [==============================] - 0s 3ms/step - loss: 0.3219 - accuracy: 0.8653 - val_loss: 0.4722 - val_accuracy: 0.8163\n",
            "Epoch 189/200\n",
            "20/20 [==============================] - 0s 4ms/step - loss: 0.3754 - accuracy: 0.8342 - val_loss: 0.4550 - val_accuracy: 0.8163\n",
            "Epoch 190/200\n",
            "20/20 [==============================] - 0s 3ms/step - loss: 0.3236 - accuracy: 0.8653 - val_loss: 0.6810 - val_accuracy: 0.7959\n",
            "Epoch 191/200\n",
            "20/20 [==============================] - 0s 3ms/step - loss: 0.3638 - accuracy: 0.8446 - val_loss: 0.5775 - val_accuracy: 0.6939\n",
            "Epoch 192/200\n",
            "20/20 [==============================] - 0s 3ms/step - loss: 0.3514 - accuracy: 0.8549 - val_loss: 0.4781 - val_accuracy: 0.7755\n",
            "Epoch 193/200\n",
            "20/20 [==============================] - 0s 4ms/step - loss: 0.3674 - accuracy: 0.8446 - val_loss: 0.4796 - val_accuracy: 0.8163\n",
            "Epoch 194/200\n",
            "20/20 [==============================] - 0s 4ms/step - loss: 0.3643 - accuracy: 0.8135 - val_loss: 0.4355 - val_accuracy: 0.7347\n",
            "Epoch 195/200\n",
            "20/20 [==============================] - 0s 4ms/step - loss: 0.3771 - accuracy: 0.8187 - val_loss: 0.6997 - val_accuracy: 0.6939\n",
            "Epoch 196/200\n",
            "20/20 [==============================] - 0s 4ms/step - loss: 0.3484 - accuracy: 0.8549 - val_loss: 0.5763 - val_accuracy: 0.7959\n",
            "Epoch 197/200\n",
            "20/20 [==============================] - 0s 3ms/step - loss: 0.3556 - accuracy: 0.8394 - val_loss: 0.7823 - val_accuracy: 0.6531\n",
            "Epoch 198/200\n",
            "20/20 [==============================] - 0s 3ms/step - loss: 0.3536 - accuracy: 0.8187 - val_loss: 0.4517 - val_accuracy: 0.7959\n",
            "Epoch 199/200\n",
            "20/20 [==============================] - 0s 4ms/step - loss: 0.3440 - accuracy: 0.8342 - val_loss: 0.6845 - val_accuracy: 0.7959\n",
            "Epoch 200/200\n",
            "20/20 [==============================] - 0s 3ms/step - loss: 0.3454 - accuracy: 0.8290 - val_loss: 0.5302 - val_accuracy: 0.8163\n"
          ]
        }
      ]
    },
    {
      "cell_type": "markdown",
      "metadata": {
        "id": "df1v2vsU1Fs_"
      },
      "source": [
        "The validation accuracy predicted by the model is around 80%. It can further be increased by trying to optimize the epochs, the number of layers or the number of nodes per layer."
      ]
    },
    {
      "cell_type": "markdown",
      "metadata": {
        "id": "_DioIGMKnE1D"
      },
      "source": [
        "## Model Evaluation\n",
        "Evaluating the model requires that you first choose a separate dataset used to evaluate the model. This should be data not used in the training process i.e. the X_test.\n",
        "\n",
        "Now, let us use the trained model to predict the probability values for the new data set - The test set we had initially created. The below code passes the X_test and y_test to the trained model and gives out the probability."
      ]
    },
    {
      "cell_type": "code",
      "metadata": {
        "id": "dp0H2fEo5G9l",
        "colab": {
          "base_uri": "https://localhost:8080/"
        },
        "outputId": "299cedf9-b7e5-4bd5-a752-f77f9c6d11db"
      },
      "source": [
        "model.evaluate(X_test, y_test)"
      ],
      "execution_count": 14,
      "outputs": [
        {
          "output_type": "stream",
          "name": "stdout",
          "text": [
            "2/2 [==============================] - 0s 4ms/step - loss: 0.5075 - accuracy: 0.8033\n"
          ]
        },
        {
          "output_type": "execute_result",
          "data": {
            "text/plain": [
              "[0.5074896812438965, 0.8032786846160889]"
            ]
          },
          "metadata": {},
          "execution_count": 14
        }
      ]
    },
    {
      "cell_type": "markdown",
      "metadata": {
        "id": "uhgS-vaMNOKH"
      },
      "source": [
        "### Model Accuracy\n",
        "Now, we'll use the history object created above to plot the Accuracy and Loss throughout the training process.\n",
        "\n",
        "You can think of history.history as a Python dictionary from which the values can be obtained by specifying a key within square brackets.\n",
        "\n",
        "For eg. `history.history['accuracy']` will give the train accuracy throughout the training process."
      ]
    },
    {
      "cell_type": "code",
      "metadata": {
        "id": "-oyohXCu3E8t",
        "colab": {
          "base_uri": "https://localhost:8080/",
          "height": 295
        },
        "outputId": "d74bacc0-25f7-4286-e8f2-55656fda2154"
      },
      "source": [
        "plt.plot(history.history['accuracy'])\n",
        "plt.plot(history.history['val_accuracy'])\n",
        "plt.title('Model Accuracy')\n",
        "plt.ylabel('accuracy')\n",
        "plt.xlabel('epoch')\n",
        "plt.legend(['Train', 'Validation'])\n",
        "plt.show()"
      ],
      "execution_count": 15,
      "outputs": [
        {
          "output_type": "display_data",
          "data": {
            "text/plain": [
              "<Figure size 432x288 with 1 Axes>"
            ],
            "image/png": "[encoded data removed]"
          },
          "metadata": {
            "needs_background": "light"
          }
        }
      ]
    },
    {
      "cell_type": "markdown",
      "metadata": {
        "id": "oKwdGvjwNUAT"
      },
      "source": [
        "### Model Loss"
      ]
    },
    {
      "cell_type": "code",
      "metadata": {
        "id": "Ku9K-qUi3II3",
        "colab": {
          "base_uri": "https://localhost:8080/",
          "height": 295
        },
        "outputId": "84822308-6225-41ee-abb0-08cac66a6e19"
      },
      "source": [
        "plt.plot(history.history['loss'])\n",
        "plt.plot(history.history['val_loss'])\n",
        "plt.title('Model Loss')\n",
        "plt.ylabel('loss')\n",
        "plt.xlabel('epoch')\n",
        "plt.legend(['Train', 'Validation'])\n",
        "plt.show()"
      ],
      "execution_count": 16,
      "outputs": [
        {
          "output_type": "display_data",
          "data": {
            "text/plain": [
              "<Figure size 432x288 with 1 Axes>"
            ],
            "image/png": "[encoded data removed]"
          },
          "metadata": {
            "needs_background": "light"
          }
        }
      ]
    },
    {
      "cell_type": "code",
      "source": [
        ""
      ],
      "metadata": {
        "id": "wFpMXcRrtquB"
      },
      "execution_count": null,
      "outputs": []
    },
    {
      "cell_type": "markdown",
      "metadata": {
        "id": "l7MypLpX9o_5"
      },
      "source": [
        "Look how the accuracy is slowly increasing and the loss slowly decreasing. Interesting, right?\n",
        "\n",
        "PS. You will read more about the importance of Validation data later."
      ]
    },
    {
      "cell_type": "markdown",
      "metadata": {
        "id": "lSBw11Y61Pp1"
      },
      "source": [
        "# Conclusion\n",
        "In this example, we developed a working Neural Network for the binary classification problem.\n",
        "\n",
        "The model can be optimised further using hyperparameter tuning and other techniques that you'll be reading about in the upcoming days."
      ]
    }
  ]
}